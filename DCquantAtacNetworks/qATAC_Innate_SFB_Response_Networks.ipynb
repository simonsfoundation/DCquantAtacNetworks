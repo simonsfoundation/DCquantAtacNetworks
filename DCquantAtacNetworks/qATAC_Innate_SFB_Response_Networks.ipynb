{
 "cells": [
  {
   "cell_type": "code",
   "execution_count": 31,
   "metadata": {
    "collapsed": true
   },
   "outputs": [],
   "source": [
    "directory = \"/Users/emiraldi/erm/Shared/DCproject/DCquantAtacNetworks\" # note, \"try\" statement below\n",
    "    # where script also searches the current directory\n",
    "\n",
    "netPath = \"DC_genesets_FC1_FDR10/DCs_max4_body_bp10000/DCnets_SFB/DCnets_SFB_pFC1_FDR10_rawp0001_hyg001\"\n",
    "\n",
    "# The starting conditions for each of the networks, a list of tuples.  Tuple entries are:\n",
    "# 0. network file name (column format) (as found in directory)\n",
    "# 1. column of the expression matrix that you want the nodes to be colored by\n",
    "# 2. network title, to which we'll add the gene and peak cutoffs\n",
    "# 3. subselect the list of relevant genes -- NOT USED for this code and can be left out\n",
    "networkInits = [('CD11bmCD103m_SFB_sp.tsv','SFB_v_GF_CD11b-CD103-','SFB UP (Red), SI CD11b-CD103-','GeneSets/GF_SI_CD11bmCD103m_v_SFB_SI_CD11bmCD103m_FC1_FDR10_down.txt'),\n",
    "    ('CD103p_SFB_sp.tsv','SFB_v_GF_CD11b-CD103+','SFB UP (Red), SI CD11b-CD103+','GeneSets/GF_SI_CD11bmCD103p_v_SFB_SI_CD11bmCD103p_FC1_FDR10_down.txt'),\n",
    "    ('CD11bp_SFB_sp.tsv','SFB_v_GF_CD11b+CD103-','SFB UP (Red), SI CD11b+CD103-','GeneSets/GF_SI_CD11bpCD103m_v_SFB_SI_CD11bpCD103m_FC1_FDR10_down.txt'),\n",
    "    ('CD11bpCD103p_SFB_sp.tsv','SFB_v_GF_CD11b+CD103+','SFB UP (Red), SI CD11b+CD103+','GeneSets/GF_SI_CD11bpCD103p_v_SFB_SI_CD11bpCD103p_FC1_FDR10_down.txt'),\n",
    "    ('mphage_SFB_sp.tsv','SFB_v_GF_Macrophage','SFB UP (Red), SI Macrophage','GeneSets/GF_SI_Macrophage_v_SFB_SI_Macrophage_FC1_FDR10_down.txt'),\n",
    "    ('monocyte_SFB_sp.tsv','SFB_v_GF_Monocyte','SFB UP (Red), Monocyte','GeneSets/GF_SI_Monocyte_v_SFB_SI_Monocyte_FC1_FDR10_down.txt')]\n",
    "    \n",
    "# original condition labels\n",
    "# [('CD11bmCD103m_SFB_sp.tsv','GF_SI_CD11bmCD103m_v_SFB_SI_CD11bmCD103m','SFB UP (green), SI CD11b-CD103-','GeneSets/GF_SI_CD11bmCD103m_v_SFB_SI_CD11bmCD103m_FC1_FDR10_down.txt'),\n",
    "#     ('CD103p_SFB_sp.tsv','GF_SI_CD11bmCD103p_v_SFB_SI_CD11bmCD103p','SFB UP (green), SI CD11b-CD103+','GeneSets/GF_SI_CD11bmCD103p_v_SFB_SI_CD11bmCD103p_FC1_FDR10_down.txt'),\n",
    "#     ('CD11bp_SFB_sp.tsv','GF_SI_CD11bpCD103m_v_SFB_SI_CD11bpCD103m','SFB UP (green), SI CD11b+CD103-','GeneSets/GF_SI_CD11bpCD103m_v_SFB_SI_CD11bpCD103m_FC1_FDR10_down.txt'),\n",
    "#     ('CD11bpCD103p_SFB_sp.tsv','GF_SI_CD11bpCD103p_v_SFB_SI_CD11bpCD103p','SFB UP (green), SI CD11b+CD103+','GeneSets/GF_SI_CD11bpCD103p_v_SFB_SI_CD11bpCD103p_FC1_FDR10_down.txt'),\n",
    "#     ('mphage_SFB_sp.tsv','GF_SI_Macrophage_v_SFB_SI_Macrophage','SFB UP (green), SI Macrophage','GeneSets/GF_SI_Macrophage_v_SFB_SI_Macrophage_FC1_FDR10_down.txt'),\n",
    "#     ('monocyte_SFB_sp.tsv','GF_SI_Monocyte_v_SFB_SI_Monocyte','SFB UP (green), Monocyte','GeneSets/GF_SI_Monocyte_v_SFB_SI_Monocyte_FC1_FDR10_down.txt')]\n",
    "\n",
    "# simple ATAC nets\n",
    "# \t  [('SFB_DCs_ATAC_simple_deTF_sp.tsv','GF_SI_CD11bmCD103m_v_SFB_SI_CD11bmCD103m','GF UP (red), SI CD11b-CD103-','GeneSets/GF_SI_CD11bmCD103m_v_SFB_SI_CD11bmCD103m_FC1_FDR10_up.txt'),\n",
    "#     ('SFB_DCs_ATAC_simple_deTF_sp.tsv','GF_SI_CD11bmCD103p_v_SFB_SI_CD11bmCD103p','GF UP (red), SI CD11b-CD103+','GeneSets/GF_SI_CD11bmCD103p_v_SFB_SI_CD11bmCD103p_FC1_FDR10_up.txt'),\n",
    "#     ('SFB_DCs_ATAC_simple_deTF_sp.tsv','GF_SI_CD11bpCD103m_v_SFB_SI_CD11bpCD103m','GF UP (red), SI CD11b+CD103-','GeneSets/GF_SI_CD11bpCD103m_v_SFB_SI_CD11bpCD103m_FC1_FDR10_up.txt'),\n",
    "#     ('SFB_DCs_ATAC_simple_deTF_sp.tsv','GF_SI_CD11bpCD103p_v_SFB_SI_CD11bpCD103p','GF UP (red), SI CD11b+CD103+','GeneSets/GF_SI_CD11bpCD103p_v_SFB_SI_CD11bpCD103p_FC1_FDR10_up.txt'),\n",
    "#     ('SFB_DCs_ATAC_simple_deTF_sp.tsv','GF_SI_Macrophage_v_SFB_SI_Macrophage','GF UP (red), SI Macrophage','GeneSets/GF_SI_Macrophage_v_SFB_SI_Macrophage_FC1_FDR10_up.txt'),\n",
    "#     ('SFB_DCs_ATAC_simple_deTF_sp.tsv','GF_SI_Monocyte_v_SFB_SI_Monocyte','GF UP (red), Monocyte','GeneSets/GF_SI_Monocyte_v_SFB_SI_Monocyte_FC1_FDR10_up.txt')]\n",
    "\n",
    "expressionFile = \"Heatmaps/Microb_DC_ILC3_log2FCs_all.txt\"\n",
    "\n",
    "threshhold = .2\n",
    "\n",
    "clim = 1.5 # absolute value color threshhold on edge color"
   ]
  },
  {
   "cell_type": "code",
   "execution_count": 32,
   "metadata": {
    "collapsed": false
   },
   "outputs": [],
   "source": [
    "from jp_gene_viz import LExpression\n",
    "from numpy import array\n",
    "# Part 1 of a hacky way to set color threshhold\n",
    "minclr = array([   255.,  0,    0.])\n",
    "minvalue = -clim\n",
    "zeroclr = array([255.0000 , 130.4000  , 60.0000]) # [   166.,    86.,    40.]) #127.5, 63.75, 0 ])\n",
    "maxvalue = clim\n",
    "maxclr = array([ 0.,    1.7*127.5,    0.])\n",
    "\n",
    "# from jp_gene_viz import motif_data\n",
    "# C = motif_data.MotifCollection()\n",
    "# # for extra safety \"rU\" reads with universal line ending support\n",
    "# C.read_meme_file(open(directory + '/' + \"mm9_em.meme\", \"rU\"))\n",
    "# C.read_meme_file(open(directory + '/' + \"hg19_em.meme\", \"rU\"))"
   ]
  },
  {
   "cell_type": "code",
   "execution_count": 33,
   "metadata": {
    "collapsed": false
   },
   "outputs": [],
   "source": [
    "LExpression.load_javascript_support()"
   ]
  },
  {
   "cell_type": "code",
   "execution_count": 34,
   "metadata": {
    "collapsed": false
   },
   "outputs": [
    {
     "name": "stdout",
     "output_type": "stream",
     "text": [
      "('Reading network', '/Users/emiraldi/erm/Shared/DCproject/DCquantAtacNetworks/DC_genesets_FC1_FDR10/DCs_max4_body_bp10000/DCnets_SFB/DCnets_SFB_pFC1_FDR10_rawp0001_hyg001/CD11bmCD103m_SFB_sp.tsv')\n",
      "('Loading saved layout', '/Users/emiraldi/erm/Shared/DCproject/DCquantAtacNetworks/DC_genesets_FC1_FDR10/DCs_max4_body_bp10000/DCnets_SFB/DCnets_SFB_pFC1_FDR10_rawp0001_hyg001/CD11bmCD103m_SFB_sp.tsv.layout.json')\n",
      "('Reading network', '/Users/emiraldi/erm/Shared/DCproject/DCquantAtacNetworks/DC_genesets_FC1_FDR10/DCs_max4_body_bp10000/DCnets_SFB/DCnets_SFB_pFC1_FDR10_rawp0001_hyg001/CD103p_SFB_sp.tsv')\n",
      "('Loading saved layout', '/Users/emiraldi/erm/Shared/DCproject/DCquantAtacNetworks/DC_genesets_FC1_FDR10/DCs_max4_body_bp10000/DCnets_SFB/DCnets_SFB_pFC1_FDR10_rawp0001_hyg001/CD103p_SFB_sp.tsv.layout.json')\n",
      "('Reading network', '/Users/emiraldi/erm/Shared/DCproject/DCquantAtacNetworks/DC_genesets_FC1_FDR10/DCs_max4_body_bp10000/DCnets_SFB/DCnets_SFB_pFC1_FDR10_rawp0001_hyg001/CD11bp_SFB_sp.tsv')\n",
      "('Loading saved layout', '/Users/emiraldi/erm/Shared/DCproject/DCquantAtacNetworks/DC_genesets_FC1_FDR10/DCs_max4_body_bp10000/DCnets_SFB/DCnets_SFB_pFC1_FDR10_rawp0001_hyg001/CD11bp_SFB_sp.tsv.layout.json')\n",
      "('Reading network', '/Users/emiraldi/erm/Shared/DCproject/DCquantAtacNetworks/DC_genesets_FC1_FDR10/DCs_max4_body_bp10000/DCnets_SFB/DCnets_SFB_pFC1_FDR10_rawp0001_hyg001/CD11bpCD103p_SFB_sp.tsv')\n",
      "('Loading saved layout', '/Users/emiraldi/erm/Shared/DCproject/DCquantAtacNetworks/DC_genesets_FC1_FDR10/DCs_max4_body_bp10000/DCnets_SFB/DCnets_SFB_pFC1_FDR10_rawp0001_hyg001/CD11bpCD103p_SFB_sp.tsv.layout.json')\n",
      "('Reading network', '/Users/emiraldi/erm/Shared/DCproject/DCquantAtacNetworks/DC_genesets_FC1_FDR10/DCs_max4_body_bp10000/DCnets_SFB/DCnets_SFB_pFC1_FDR10_rawp0001_hyg001/mphage_SFB_sp.tsv')\n",
      "('Loading saved layout', '/Users/emiraldi/erm/Shared/DCproject/DCquantAtacNetworks/DC_genesets_FC1_FDR10/DCs_max4_body_bp10000/DCnets_SFB/DCnets_SFB_pFC1_FDR10_rawp0001_hyg001/mphage_SFB_sp.tsv.layout.json')\n",
      "('Reading network', '/Users/emiraldi/erm/Shared/DCproject/DCquantAtacNetworks/DC_genesets_FC1_FDR10/DCs_max4_body_bp10000/DCnets_SFB/DCnets_SFB_pFC1_FDR10_rawp0001_hyg001/monocyte_SFB_sp.tsv')\n",
      "('Loading saved layout', '/Users/emiraldi/erm/Shared/DCproject/DCquantAtacNetworks/DC_genesets_FC1_FDR10/DCs_max4_body_bp10000/DCnets_SFB/DCnets_SFB_pFC1_FDR10_rawp0001_hyg001/monocyte_SFB_sp.tsv.layout.json')\n"
     ]
    }
   ],
   "source": [
    "for networkInit in networkInits:\n",
    "    currCol = networkInit[1].lower()\n",
    "    networkFile = networkInit[0]\n",
    "    L = LExpression.LinkedExpressionNetwork()\n",
    "    L.show()\n",
    "    try:\n",
    "        L.load_network(directory + '/' + netPath + '/' + networkFile)\n",
    "    except AssertionError:\n",
    "        directory = \".\"\n",
    "        L.load_network(directory + '/' + netPath + '/' + networkFile)    \n",
    "    L.load_network(directory + '/' + netPath + '/' + networkFile)\n",
    "    L.load_heatmap(directory + '/' + expressionFile)\n",
    "    N = L.network\n",
    "    N.set_title(networkInit[2])\n",
    "    # set threshold\n",
    "    N.threshhold_slider.value = threshhold\n",
    "    N.apply_click(None)\n",
    "    N.draw()    \n",
    "    # Limit genes to target genes of interest and their putative regulators\n",
    "#     geneListFile = networkInit[3]\n",
    "#     geneIn = open(directory + '/' + geneListFile,'r')    \n",
    "#     geneList = list()\n",
    "#     for gene in geneIn:\n",
    "#         geneList.append(gene.strip('\\n').lower())\n",
    "#     geneIn.close()\n",
    "#     N.pattern_text.value = \" \".join(geneList)\n",
    "#     N.match_click(None)\n",
    "#     N.targeted_click(None)\n",
    "# #     regulates_click(None)\n",
    "#     N.layout_click(None)    \n",
    "    \n",
    "#     # color nodes according to a sample column in the gene expression matrix\n",
    "    L.gene_click(None)    \n",
    "    L.expression.col = currCol    \n",
    "    L.condition_click(None)\n",
    "    N.layout_click(None)\n",
    "    N.labels_button.value=True\n",
    "    \n",
    "    # Part 2: a hacky way to set min and max on the heatmap and heatmap-colored nodes\n",
    "    N.display_graph._edge_color_interpolator.minclr = minclr\n",
    "    N.display_graph._edge_color_interpolator.maxclr = maxclr\n",
    "    N.display_graph._edge_color_interpolator.breakpoints = \\\n",
    "        [(minvalue, minclr),\n",
    "         (0, zeroclr),\n",
    "         (maxvalue, maxclr)]\n",
    "    N.draw()\n",
    "\n",
    "#     # Attach the motif collection populated above:\n",
    "#     N.motif_collection = C\n",
    "#     net_with_motifs\n",
    "\n"
   ]
  },
  {
   "cell_type": "code",
   "execution_count": null,
   "metadata": {
    "collapsed": true
   },
   "outputs": [],
   "source": []
  }
 ],
 "metadata": {
  "kernelspec": {
   "display_name": "Python 2",
   "language": "python",
   "name": "python2"
  },
  "language_info": {
   "codemirror_mode": {
    "name": "ipython",
    "version": 2
   },
   "file_extension": ".py",
   "mimetype": "text/x-python",
   "name": "python",
   "nbconvert_exporter": "python",
   "pygments_lexer": "ipython2",
   "version": "2.7.10"
  }
 },
 "nbformat": 4,
 "nbformat_minor": 0
}
