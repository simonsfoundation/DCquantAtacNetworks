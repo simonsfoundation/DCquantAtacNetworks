{
 "cells": [
  {
   "cell_type": "code",
   "execution_count": 9,
   "metadata": {
    "collapsed": true
   },
   "outputs": [],
   "source": [
    "directory = \"/Users/emiraldi/erm/Shared/DCproject/DCquantAtacNetworks\" # note, \"try\" statement below\n",
    "    # where script also searches the current directory\n",
    "\n",
    "# netPath = \"DC_genesets_FC1_FDR10/DCs_max4_body_bp10000/DCnets_loc/DCnets_loc_pFC1_FDR10_rawp0001_hyg0001\"\n",
    "netPath = \"DC_genesets_FC0p58_FDR25/DCs_max4_body_bp10000/DCnets_loc/DCnets_loc_pFC0p58_FDR25_rawp0001_hyg0001\"\n",
    "\n",
    "# The starting conditions for each of the networks, a list of tuples.  Tuple entries are:\n",
    "# 0. network file name (column format) (as found in directory)\n",
    "# 1. column of the expression matrix that you want the nodes to be colored by\n",
    "# 2. network title, to which we'll add the gene and peak cutoffs\n",
    "# 3. subselect the list of relevant genes -- NOT USED for this code and can be left out\n",
    "networkInits = [('CD11bmCD103m_LI_sp.tsv','LI_v_SI_GF_CD11b-CD103-','LI UP (red), GF CD11b-CD103-','GeneSets/GF_LI_CD11bmCD103m_v_GF_SI_CD11bmCD103m_FC1_FDR10_up.txt'),\n",
    "\t('CD103p_LI_sp.tsv','LI_v_SI_GF_CD11b-CD103+','LI UP (red), GF CD11b-CD103+','GeneSets/GF_LI_CD11bmCD103p_v_GF_SI_CD11bmCD103p_FC1_FDR10_up.txt'),\n",
    "\t('CD11bp_LI_sp.tsv','LI_v_SI_GF_CD11b+CD103-','LI UP (red), GF CD11b+CD103-','GeneSets/GF_LI_CD11bpCD103m_v_GF_SI_CD11bpCD103m_FC1_FDR10_up.txt'),\n",
    "\t('CD11bpCD103p_LI_sp.tsv','LI_v_SI_GF_CD11b+CD103+','LI UP (red), GF CD11b+CD103+','GeneSets/GF_LI_CD11bpCD103p_v_GF_SI_CD11bpCD103p_FC1_FDR10_up.txt'),\n",
    "\t('mphage_LI_sp.tsv','LI_v_SI_GF_Macrophage','LI UP (red), GF Macrophage','GeneSets/GF_LI_Macrophage_v_GF_SI_Macrophage_FC1_FDR10_up.txt'),\n",
    "\t('monocyte_LI_sp.tsv','LI_v_SI_GF_Monocyte','LI UP (red), GF Monocyte','GeneSets/GF_LI_Monocyte_v_GF_SI_Monocyte_FC1_FDR10_up.txt'),\n",
    "\t('CD11bmCD103m_SI_sp.tsv','LI_v_SI_GF_CD11b-CD103-','SI UP (green), GF CD11b-CD103-','GeneSets/GF_LI_CD11bmCD103m_v_GF_SI_CD11bmCD103m_FC1_FDR10_down.txt'),\n",
    "\t('CD103p_SI_sp.tsv','LI_v_SI_GF_CD11b-CD103+','SI UP (green), GF CD11b-CD103+','GeneSets/GF_LI_CD11bmCD103p_v_GF_SI_CD11bmCD103p_FC1_FDR10_down.txt'),\n",
    "\t('CD11bp_SI_sp.tsv','LI_v_SI_GF_CD11b+CD103-','SI UP (green), GF CD11b+CD103-','GeneSets/GF_LI_CD11bpCD103m_v_GF_SI_CD11bpCD103m_FC1_FDR10_down.txt'),\n",
    "\t('mphage_SI_sp.tsv','LI_v_SI_GF_Macrophage','SI UP (green), GF Macrophage','GeneSets/GF_LI_Macrophage_v_GF_SI_Macrophage_FC1_FDR10_down.txt'),\n",
    "\t('monocyte_SI_sp.tsv','LI_v_SI_GF_Monocyte','SI UP (green), GF Monocyte','GeneSets/GF_LI_Monocyte_v_GF_SI_Monocyte_FC1_FDR10_down.txt')]\n",
    "\n",
    "# networkInits = [('CD11bmCD103m_LI_sp.tsv','GF_LI_CD11bmCD103m_v_GF_SI_CD11bmCD103m','LI UP (red), GF CD11b-CD103-','GeneSets/GF_LI_CD11bmCD103m_v_GF_SI_CD11bmCD103m_FC1_FDR10_up.txt'),\n",
    "# \t('CD103p_LI_sp.tsv','GF_LI_CD11bmCD103p_v_GF_SI_CD11bmCD103p','LI UP (red), GF CD11b-CD103+','GeneSets/GF_LI_CD11bmCD103p_v_GF_SI_CD11bmCD103p_FC1_FDR10_up.txt'),\n",
    "# \t('CD11bp_LI_sp.tsv','GF_LI_CD11bpCD103m_v_GF_SI_CD11bpCD103m','LI UP (red), GF CD11b+CD103-','GeneSets/GF_LI_CD11bpCD103m_v_GF_SI_CD11bpCD103m_FC1_FDR10_up.txt'),\n",
    "# \t('CD11bpCD103p_LI_sp.tsv','GF_LI_CD11bpCD103p_v_GF_SI_CD11bpCD103p','LI UP (red), GF CD11b+CD103+','GeneSets/GF_LI_CD11bpCD103p_v_GF_SI_CD11bpCD103p_FC1_FDR10_up.txt'),\n",
    "# \t('mphage_LI_sp.tsv','GF_LI_Macrophage_v_GF_SI_Macrophage','LI UP (red), GF Macrophage','GeneSets/GF_LI_Macrophage_v_GF_SI_Macrophage_FC1_FDR10_up.txt'),\n",
    "# \t('monocyte_LI_sp.tsv','GF_LI_Monocyte_v_GF_SI_Monocyte','LI UP (red), GF Monocyte','GeneSets/GF_LI_Monocyte_v_GF_SI_Monocyte_FC1_FDR10_up.txt'),\n",
    "# \t('CD11bmCD103m_SI_sp.tsv','GF_LI_CD11bmCD103m_v_GF_SI_CD11bmCD103m','SI UP (green), GF CD11b-CD103-','GeneSets/GF_LI_CD11bmCD103m_v_GF_SI_CD11bmCD103m_FC1_FDR10_down.txt'),\n",
    "# \t('CD103p_SI_sp.tsv','GF_LI_CD11bmCD103p_v_GF_SI_CD11bmCD103p','SI UP (green), GF CD11b-CD103+','GeneSets/GF_LI_CD11bmCD103p_v_GF_SI_CD11bmCD103p_FC1_FDR10_down.txt'),\n",
    "# \t('CD11bp_SI_sp.tsv','GF_LI_CD11bpCD103m_v_GF_SI_CD11bpCD103m','SI UP (green), GF CD11b+CD103-','GeneSets/GF_LI_CD11bpCD103m_v_GF_SI_CD11bpCD103m_FC1_FDR10_down.txt'),\n",
    "# \t('mphage_SI_sp.tsv','GF_LI_Macrophage_v_GF_SI_Macrophage','SI UP (green), GF Macrophage','GeneSets/GF_LI_Macrophage_v_GF_SI_Macrophage_FC1_FDR10_down.txt'),\n",
    "# \t('monocyte_SI_sp.tsv','GF_LI_Monocyte_v_GF_SI_Monocyte','SI UP (green), GF Monocyte','GeneSets/GF_LI_Monocyte_v_GF_SI_Monocyte_FC1_FDR10_down.txt')]\n",
    "\t\n",
    "# \t('Loc_DCs_ATAC_simple_deTF_sp.tsv','GF_LI_CD11bpCD103p_v_GF_SI_CD11bpCD103p','SI UP (green), GF CD11b+CD103+','GeneSets/GF_LI_CD11bpCD103p_v_GF_SI_CD11bpCD103p_FC1_FDR10_down.txt'),\n",
    "#                 (\"CCR6pPotNets.txt\",\"Sca+CCR6+ILC3_Ileum_SFBMono\",\"SCA+ILC3s\",\"GeneSets/SCApILC3sig.txt\")]\n",
    "                \n",
    "# expressionFile = \"DC_RNAseq_log2fcs.txt\"\n",
    "# expressionFile = \"DC_RNAseq_2f_VSD_SILI.txt\"\n",
    "expressionFile = \"Heatmaps/SILI_DC_ILC_log2FCs_SILI_DC_ILC_all.txt\"\n",
    "\n",
    "tfFocus = 1 # If 1, automatically applies the \"trim\" function, so we can focus on TFs\n",
    "    # If 0, does not!\n",
    "\n",
    "threshhold = .2 # for edge weights in graph\n",
    "\n",
    "clim = 1.5 # absolute value color threshhold on edge color"
   ]
  },
  {
   "cell_type": "code",
   "execution_count": 10,
   "metadata": {
    "collapsed": false
   },
   "outputs": [],
   "source": [
    "from jp_gene_viz import LExpression\n",
    "from numpy import array\n",
    "# Part 1 of a hacky way to set color threshhold\n",
    "minclr = array([   255.,  0,    0.])\n",
    "minvalue = -clim\n",
    "zeroclr = array([255.0000 , 130.4000  , 60.0000]) # [   166.,    86.,    40.]) #127.5, 63.75, 0 ])\n",
    "maxvalue = clim\n",
    "maxclr = array([ 0.,    1.7*127.5,    0.])\n",
    "\n",
    "# from jp_gene_viz import motif_data\n",
    "# C = motif_data.MotifCollection()\n",
    "# # for extra safety \"rU\" reads with universal line ending support\n",
    "# C.read_meme_file(open(directory + '/' + \"mm9_em.meme\", \"rU\"))\n",
    "# C.read_meme_file(open(directory + '/' + \"hg19_em.meme\", \"rU\"))"
   ]
  },
  {
   "cell_type": "code",
   "execution_count": 11,
   "metadata": {
    "collapsed": false
   },
   "outputs": [],
   "source": [
    "LExpression.load_javascript_support()"
   ]
  },
  {
   "cell_type": "code",
   "execution_count": 12,
   "metadata": {
    "collapsed": false
   },
   "outputs": [
    {
     "name": "stdout",
     "output_type": "stream",
     "text": [
      "('Reading network', '/Users/emiraldi/erm/Shared/DCproject/DCquantAtacNetworks/DC_genesets_FC0p58_FDR25/DCs_max4_body_bp10000/DCnets_loc/DCnets_loc_pFC0p58_FDR25_rawp0001_hyg0001/CD11bmCD103m_LI_sp.tsv')\n",
      "('Loading saved layout', '/Users/emiraldi/erm/Shared/DCproject/DCquantAtacNetworks/DC_genesets_FC0p58_FDR25/DCs_max4_body_bp10000/DCnets_loc/DCnets_loc_pFC0p58_FDR25_rawp0001_hyg0001/CD11bmCD103m_LI_sp.tsv.layout.json')\n",
      "('Reading network', '/Users/emiraldi/erm/Shared/DCproject/DCquantAtacNetworks/DC_genesets_FC0p58_FDR25/DCs_max4_body_bp10000/DCnets_loc/DCnets_loc_pFC0p58_FDR25_rawp0001_hyg0001/CD103p_LI_sp.tsv')\n",
      "('Loading saved layout', '/Users/emiraldi/erm/Shared/DCproject/DCquantAtacNetworks/DC_genesets_FC0p58_FDR25/DCs_max4_body_bp10000/DCnets_loc/DCnets_loc_pFC0p58_FDR25_rawp0001_hyg0001/CD103p_LI_sp.tsv.layout.json')\n"
     ]
    }
   ],
   "source": [
    "for networkInit in networkInits:\n",
    "    currCol = networkInit[1].lower()\n",
    "    networkFile = networkInit[0]\n",
    "    L = LExpression.LinkedExpressionNetwork()\n",
    "    L.show()\n",
    "    try:\n",
    "        L.load_network(directory + '/' + netPath + '/' + networkFile)\n",
    "    except AssertionError:\n",
    "        directory = \".\"\n",
    "        L.load_network(directory + '/' + netPath + '/' + networkFile)    \n",
    "    L.load_heatmap(directory + '/' + expressionFile)\n",
    "    N = L.network\n",
    "    N.set_title(networkInit[2])\n",
    "    # set threshold\n",
    "    N.threshhold_slider.value = threshhold\n",
    "    N.apply_click(None)\n",
    "    if tfFocus:\n",
    "        # focus on TF core    \n",
    "        N.trim_click(None)\n",
    "        N.layout_click(None)    \n",
    "    N.draw()    \n",
    "    # Limit genes to target genes of interest and their putative regulators\n",
    "#     geneListFile = networkInit[3]\n",
    "#     geneIn = open(directory + '/' + geneListFile,'r')    \n",
    "#     geneList = list()\n",
    "#     for gene in geneIn:\n",
    "#         geneList.append(gene.strip('\\n').lower())\n",
    "#     geneIn.close()\n",
    "#     N.pattern_text.value = \" \".join(geneList)\n",
    "#     N.match_click(None)\n",
    "#     N.targeted_click(None)\n",
    "# #     regulates_click(None)\n",
    "#     N.layout_click(None)    \n",
    "\n",
    "\n",
    "    # color nodes according to a sample column in the gene expression matrix\n",
    "    L.gene_click(None)    \n",
    "    L.expression.col = currCol    \n",
    "    L.condition_click(None)\n",
    "    N.layout_click(None)\n",
    "    N.labels_button.value=True\n",
    "\n",
    "    # Part 2: a hacky way to set min and max on the heatmap and heatmap-colored nodes\n",
    "    N.display_graph._edge_color_interpolator.minclr = minclr\n",
    "    N.display_graph._edge_color_interpolator.maxclr = maxclr\n",
    "    N.display_graph._edge_color_interpolator.breakpoints = \\\n",
    "        [(minvalue, minclr),\n",
    "         (0, zeroclr),\n",
    "         (maxvalue, maxclr)]\n",
    "    N.draw()\n",
    "    \n",
    "#     # Attach the motif collection populated above:\n",
    "#     N.motif_collection = C\n",
    "#     net_with_motifs\n",
    "\n"
   ]
  },
  {
   "cell_type": "code",
   "execution_count": null,
   "metadata": {
    "collapsed": true
   },
   "outputs": [],
   "source": []
  }
 ],
 "metadata": {
  "kernelspec": {
   "display_name": "Python 2",
   "language": "python",
   "name": "python2"
  },
  "language_info": {
   "codemirror_mode": {
    "name": "ipython",
    "version": 2
   },
   "file_extension": ".py",
   "mimetype": "text/x-python",
   "name": "python",
   "nbconvert_exporter": "python",
   "pygments_lexer": "ipython2",
   "version": "2.7.10"
  }
 },
 "nbformat": 4,
 "nbformat_minor": 0
}
