{
 "cells": [
  {
   "cell_type": "code",
   "execution_count": 14,
   "metadata": {
    "collapsed": false
   },
   "outputs": [],
   "source": [
    "# Modes of regulation that turn on under SI conditions, relative to LI\n",
    "\n",
    "# GOAL: We want to visualize each quantitative ATAC priors and compare networks resulting from different\n",
    "# choices of geneset and peakset cutoffs (e.g., log2 fold-change and FDR), for each network (e.g., SI gene regulation\n",
    "# in macrophages).  We will use the \"multiple_network\" functionality to do this, and use networks linked to heatmaps\n",
    "# (\"Lexpression\" functionality) so that we can color nodes according to gene expression \n",
    "\n",
    "# Each tupple corresponds to (geneset cutoff, peakset cutoff)\n",
    "cutComb = ('FC1_FDR10','FC1_FDR10')\n",
    "# \n",
    "#                 ('FC1_FDR10','FC0p58_FDR25'),\n",
    "#                 ('FC0p58_FDR25','FC0p58_FDR25'),\n",
    "#                 ('FC0p58_FDR25','FC1_FDR10')]\n",
    "# NOTE: Script below is HARD-coded to only visualize the six (LI) or five (SI) networks\n",
    "\n",
    "directory = \"/Users/emiraldi/erm/Shared/DCproject/DCquantAtacNetworks\" #NOTE, \"try\" statement below, will also look in current directory\n",
    "\n",
    "# Location of each network, and note we will use .replace() to insert the gene and peakset cutoffs of interest\n",
    "# for \"GENE_CUTOFF\" and \"PEAK_CUTOFF\" in the string below\n",
    "netBase = \"DC_genesets_GENE_CUTOFF/DCs_max4_body_bp10000/DCnets_SFB/DCnets_SFB_pPEAK_CUTOFF_rawp0001_hyg0001\"\n",
    "geneCutoff = cutComb[0]\n",
    "peakCutoff = cutComb[1]\n",
    "netPath = netBase.replace('GENE_CUTOFF',geneCutoff).replace('PEAK_CUTOFF',peakCutoff)\n",
    "\n",
    "# The starting conditions for each of the networks, a list of tuples.  Tuple entries are:\n",
    "# 0. network file name (column format) (as found in directory + netBase with cutoffs inserted\n",
    "# 1. column of the expression matrix that you want the nodes to be colored by\n",
    "# 2. network title, to which we'll add the gene and peak cutoffs\n",
    "# 3. subselect the list of relevant genes -- NOT USED for this code and can be left out\n",
    "networkInits = [('CD11bmCD103m_SFB_sp.tsv','SFB_v_GF_CD11b-CD103-','SFB UP (Red), SI CD11b-CD103-','GeneSets/GF_SI_CD11bmCD103m_v_SFB_SI_CD11bmCD103m_FC1_FDR10_down.txt'),\n",
    "    ('CD103p_SFB_sp.tsv','SFB_v_GF_CD11b-CD103+','SFB UP (Red), SI CD11b-CD103+','GeneSets/GF_SI_CD11bmCD103p_v_SFB_SI_CD11bmCD103p_FC1_FDR10_down.txt'),\n",
    "    ('CD11bp_SFB_sp.tsv','SFB_v_GF_CD11b+CD103-','SFB UP (Red), SI CD11b+CD103-','GeneSets/GF_SI_CD11bpCD103m_v_SFB_SI_CD11bpCD103m_FC1_FDR10_down.txt'),\n",
    "    ('CD11bpCD103p_SFB_sp.tsv','SFB_v_GF_CD11b+CD103+','SFB UP (Red), SI CD11b+CD103+','GeneSets/GF_SI_CD11bpCD103p_v_SFB_SI_CD11bpCD103p_FC1_FDR10_down.txt'),\n",
    "    ('mphage_SFB_sp.tsv','SFB_v_GF_Macrophage','SFB UP (Red), SI Macrophage','GeneSets/GF_SI_Macrophage_v_SFB_SI_Macrophage_FC1_FDR10_down.txt'),\n",
    "    ('monocyte_SFB_sp.tsv','SFB_v_GF_Monocyte','SFB UP (Red), Monocyte','GeneSets/GF_SI_Monocyte_v_SFB_SI_Monocyte_FC1_FDR10_down.txt')]\n",
    "\n",
    "expressionFile = \"Heatmaps/Microb_DC_ILC3_log2FCs_all.txt\"\n",
    "\n",
    "tfFocus = 1 # If 1, automatically applies the \"trim\" function, so we can focus on TFs\n",
    "    # If 0, does not!\n",
    "\n",
    "threshhold = .2 # for edge weights in graph\n",
    "\n",
    "clim = 1.5 # absolute value color threshhold on edge color"
   ]
  },
  {
   "cell_type": "code",
   "execution_count": 15,
   "metadata": {
    "collapsed": false
   },
   "outputs": [],
   "source": [
    "# Uncomment to run without install (in binder, for example)\n",
    "import sys\n",
    "if \"..\" not in sys.path:\n",
    "    sys.path.append(\"..\")\n",
    "from jp_gene_viz import dNetwork\n",
    "dNetwork.load_javascript_support()\n",
    "from jp_gene_viz import multiple_network\n",
    "from jp_gene_viz import LExpression\n",
    "LExpression.load_javascript_support()\n",
    "# Part 1 of a hacky way to set color threshhold\n",
    "from numpy import array\n",
    "minclr = array([   255.,  0,    0.])\n",
    "minvalue = -clim\n",
    "zeroclr = array([255.0000 , 130.4000  , 60.0000]) # [   166.,    86.,    40.]) #127.5, 63.75, 0 ])\n",
    "maxvalue = clim\n",
    "maxclr = array([ 0.,    1.7*127.5,    0.])\n",
    "\n",
    "\n",
    "# Currently, we are not interested in visualizing motifs, and would need to find these files, if we did\n",
    "# from jp_gene_viz import motif_data\n",
    "# C = motif_data.MotifCollection()\n",
    "# # for extra safety \"rU\" reads with universal line ending support\n",
    "# C.read_meme_file(open(directory + '/' + \"mm9_em.meme\", \"rU\"))\n",
    "# C.read_meme_file(open(directory + '/' + \"hg19_em.meme\", \"rU\"))"
   ]
  },
  {
   "cell_type": "code",
   "execution_count": 16,
   "metadata": {
    "collapsed": false
   },
   "outputs": [
    {
     "name": "stdout",
     "output_type": "stream",
     "text": [
      "('Reading network', '/Users/emiraldi/erm/Shared/DCproject/DCquantAtacNetworks/DC_genesets_FC1_FDR10/DCs_max4_body_bp10000/DCnets_SFB/DCnets_SFB_pFC1_FDR10_rawp0001_hyg0001/CD11bmCD103m_SFB_sp.tsv')\n",
      "('Loading saved layout', '/Users/emiraldi/erm/Shared/DCproject/DCquantAtacNetworks/DC_genesets_FC1_FDR10/DCs_max4_body_bp10000/DCnets_SFB/DCnets_SFB_pFC1_FDR10_rawp0001_hyg0001/CD11bmCD103m_SFB_sp.tsv.layout.json')\n",
      "('Reading network', '/Users/emiraldi/erm/Shared/DCproject/DCquantAtacNetworks/DC_genesets_FC1_FDR10/DCs_max4_body_bp10000/DCnets_SFB/DCnets_SFB_pFC1_FDR10_rawp0001_hyg0001/CD103p_SFB_sp.tsv')\n",
      "('Loading saved layout', '/Users/emiraldi/erm/Shared/DCproject/DCquantAtacNetworks/DC_genesets_FC1_FDR10/DCs_max4_body_bp10000/DCnets_SFB/DCnets_SFB_pFC1_FDR10_rawp0001_hyg0001/CD103p_SFB_sp.tsv.layout.json')\n",
      "('Reading network', '/Users/emiraldi/erm/Shared/DCproject/DCquantAtacNetworks/DC_genesets_FC1_FDR10/DCs_max4_body_bp10000/DCnets_SFB/DCnets_SFB_pFC1_FDR10_rawp0001_hyg0001/CD11bp_SFB_sp.tsv')\n",
      "('Loading saved layout', '/Users/emiraldi/erm/Shared/DCproject/DCquantAtacNetworks/DC_genesets_FC1_FDR10/DCs_max4_body_bp10000/DCnets_SFB/DCnets_SFB_pFC1_FDR10_rawp0001_hyg0001/CD11bp_SFB_sp.tsv.layout.json')\n",
      "('Reading network', '/Users/emiraldi/erm/Shared/DCproject/DCquantAtacNetworks/DC_genesets_FC1_FDR10/DCs_max4_body_bp10000/DCnets_SFB/DCnets_SFB_pFC1_FDR10_rawp0001_hyg0001/CD11bpCD103p_SFB_sp.tsv')\n",
      "('Loading saved layout', '/Users/emiraldi/erm/Shared/DCproject/DCquantAtacNetworks/DC_genesets_FC1_FDR10/DCs_max4_body_bp10000/DCnets_SFB/DCnets_SFB_pFC1_FDR10_rawp0001_hyg0001/CD11bpCD103p_SFB_sp.tsv.layout.json')\n",
      "('Reading network', '/Users/emiraldi/erm/Shared/DCproject/DCquantAtacNetworks/DC_genesets_FC1_FDR10/DCs_max4_body_bp10000/DCnets_SFB/DCnets_SFB_pFC1_FDR10_rawp0001_hyg0001/mphage_SFB_sp.tsv')\n",
      "('Loading saved layout', '/Users/emiraldi/erm/Shared/DCproject/DCquantAtacNetworks/DC_genesets_FC1_FDR10/DCs_max4_body_bp10000/DCnets_SFB/DCnets_SFB_pFC1_FDR10_rawp0001_hyg0001/mphage_SFB_sp.tsv.layout.json')\n",
      "('Reading network', '/Users/emiraldi/erm/Shared/DCproject/DCquantAtacNetworks/DC_genesets_FC1_FDR10/DCs_max4_body_bp10000/DCnets_SFB/DCnets_SFB_pFC1_FDR10_rawp0001_hyg0001/monocyte_SFB_sp.tsv')\n",
      "('Loading saved layout', '/Users/emiraldi/erm/Shared/DCproject/DCquantAtacNetworks/DC_genesets_FC1_FDR10/DCs_max4_body_bp10000/DCnets_SFB/DCnets_SFB_pFC1_FDR10_rawp0001_hyg0001/monocyte_SFB_sp.tsv.layout.json')\n"
     ]
    }
   ],
   "source": [
    "networkList = list()  # this list contains heatmap-linked network objects\n",
    "\n",
    "for networkInit in networkInits:\n",
    "    networkFile = networkInit[0]\n",
    "    curr = LExpression.LinkedExpressionNetwork()\n",
    "    try:\n",
    "        curr.load_network(directory + '/' + netPath + '/' + networkFile)  \n",
    "    except AssertionError:\n",
    "        directory = \".\"\n",
    "        curr.load_network(directory + '/' + netPath + '/' + networkFile)    \n",
    "    networkList.append(curr)\n"
   ]
  },
  {
   "cell_type": "code",
   "execution_count": 17,
   "metadata": {
    "collapsed": false
   },
   "outputs": [],
   "source": [
    "# visualize the networks -- HARD CODED for 5 networks:\n",
    "M = multiple_network.MultipleNetworks(\n",
    "    [[networkList[0], networkList[1]],\n",
    "    [networkList[2], networkList[3]],\n",
    "    [networkList[4], networkList[5]]])\n",
    "M.svg_width = 500\n",
    "M.show()      "
   ]
  },
  {
   "cell_type": "code",
   "execution_count": 18,
   "metadata": {
    "collapsed": false
   },
   "outputs": [],
   "source": [
    "# Set network preferences\n",
    "count = 0\n",
    "for curr in networkList:\n",
    "    networkInit = networkInits[count]\n",
    "    # get title information + curr column for shading of figures\n",
    "    currCol = networkInit[1].lower()\n",
    "    titleBase = networkInit[2]\n",
    "    titleInf = titleBase + ' (gCut: ' + geneCutoff.replace('_',' ') + ', pCut: ' + peakCutoff.replace('_',' ')\n",
    "    \n",
    "    # set threshold\n",
    "    curr.network.threshhold_slider.value = threshhold\n",
    "    curr.network.apply_click(None)\n",
    "    if tfFocus:\n",
    "        # focus on TF core    \n",
    "        curr.network.tf_only_click(None)\n",
    "        curr.network.layout_click(None)  \n",
    "        \n",
    "    # set title\n",
    "    curr.network.title_html.value = titleInf\n",
    "\n",
    "    # add labels\n",
    "    curr.network.labels_button.value=True  \n",
    "    curr.network.draw_click(None)\n",
    "\n",
    "    # Load heatmap\n",
    "    curr.load_heatmap(directory + '/' + expressionFile)\n",
    "    # color nodes according to a sample column in the gene expression matrix\n",
    "    curr.gene_click(None)    \n",
    "    curr.expression.col = currCol    \n",
    "    curr.condition_click(None)\n",
    "    \n",
    "        #     # Attach the motif collection populated above:\n",
    "        #     N.motif_collection = C\n",
    "        #     net_with_motifs\n",
    "    \n",
    "    # !!!!! for some reason this doesn't work, tried curr.display... w/o curr.network.display...\n",
    "    # Part 2: a hacky way to set min and max on the heatmap and heatmap-colored nodes\n",
    "    curr.network.display_graph.get_edge_color_interpolator()\n",
    "    curr.network.display_graph._edge_color_interpolator.minclr = minclr\n",
    "    curr.network.display_graph._edge_color_interpolator.maxclr = maxclr\n",
    "    curr.network.display_graph._edge_color_interpolator.breakpoints = \\\n",
    "        [(minvalue, minclr),\n",
    "         (0, zeroclr),\n",
    "         (maxvalue, maxclr)]\n",
    "    curr.network.draw_click(None)\n",
    "    count += 1\n"
   ]
  },
  {
   "cell_type": "code",
   "execution_count": null,
   "metadata": {
    "collapsed": true
   },
   "outputs": [],
   "source": []
  },
  {
   "cell_type": "code",
   "execution_count": null,
   "metadata": {
    "collapsed": true
   },
   "outputs": [],
   "source": []
  }
 ],
 "metadata": {
  "kernelspec": {
   "display_name": "Python 2",
   "language": "python",
   "name": "python2"
  },
  "language_info": {
   "codemirror_mode": {
    "name": "ipython",
    "version": 2
   },
   "file_extension": ".py",
   "mimetype": "text/x-python",
   "name": "python",
   "nbconvert_exporter": "python",
   "pygments_lexer": "ipython2",
   "version": "2.7.10"
  }
 },
 "nbformat": 4,
 "nbformat_minor": 0
}
